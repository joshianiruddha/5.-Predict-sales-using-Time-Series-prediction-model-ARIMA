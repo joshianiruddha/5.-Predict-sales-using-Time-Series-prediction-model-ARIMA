{
 "cells": [
  {
   "cell_type": "markdown",
   "id": "fdde7841",
   "metadata": {},
   "source": [
    "### DCS 630\n",
    "# Week 8\n",
    "## Assignment 8\n",
    "\n",
    " \n",
    "\n",
    "### Name: Aniruddha Joshi\n",
    "### Date: May 04, 2024"
   ]
  },
  {
   "cell_type": "code",
   "execution_count": 162,
   "id": "388c07ae",
   "metadata": {
    "ExecuteTime": {
     "end_time": "2023-10-17T19:32:24.642876Z",
     "start_time": "2023-10-17T19:32:23.075619Z"
    }
   },
   "outputs": [],
   "source": [
    "#Defining Libraries required for import\n",
    "import numpy as np\n",
    "import pandas as pd\n",
    "import matplotlib.pyplot as plt\n",
    "from datetime import datetime\n",
    "import sklearn as sk\n",
    "import textblob as tb\n",
    "from nltk.sentiment.vader import SentimentIntensityAnalyzer\n",
    "from nltk.stem import PorterStemmer\n",
    "import operator\n",
    "import unicodedata\n",
    "import sys\n",
    "import re\n",
    "from nltk.corpus import stopwords\n",
    "from sklearn.feature_extraction.text import CountVectorizer\n",
    "from sklearn.feature_extraction.text import TfidfVectorizer\n",
    "from sklearn.model_selection import train_test_split\n",
    "from sklearn.linear_model import LogisticRegression\n",
    "from sklearn.model_selection import cross_val_score\n",
    "from sklearn.metrics import accuracy_score, precision_score, recall_score, f1_score\n",
    "from sklearn.metrics import roc_auc_score, confusion_matrix, roc_curve, auc\n",
    "from sklearn.svm import LinearSVC\n",
    "from sklearn.ensemble import RandomForestClassifier\n",
    "import geopandas as gpd\n",
    "from geopy.geocoders import Nominatim\n",
    "from sklearn.linear_model import LinearRegression\n",
    "from sklearn.metrics import accuracy_score, precision_score, recall_score, f1_score, roc_auc_score  \n",
    "from sklearn.metrics import confusion_matrix, roc_curve, auc, mean_squared_error, r2_score, classification_report\n",
    "import seaborn as sns\n",
    "from sklearn.tree import DecisionTreeClassifier\n",
    "from sklearn.ensemble import RandomForestRegressor\n",
    "from sklearn.tree import DecisionTreeRegressor\n",
    "from sklearn.svm import SVR\n",
    "from sklearn.neighbors import KNeighborsClassifier\n",
    "from sklearn.neighbors import KNeighborsClassifier\n",
    "from sklearn.pipeline import Pipeline, FeatureUnion\n",
    "from sklearn.metrics import confusion_matrix\n",
    "from sklearn.inspection import DecisionBoundaryDisplay\n",
    "from sklearn.preprocessing import StandardScaler\n",
    "from sklearn.decomposition import PCA\n",
    "\n",
    "from sklearn.cluster import KMeans\n",
    "from sklearn.metrics import silhouette_samples, silhouette_score\n",
    "import matplotlib.cm as cm\n",
    "import warnings\n",
    "import plotly.express as px\n",
    "import plotly.io as pio\n",
    "\n",
    "from statsmodels.tsa.arima.model import ARIMA\n",
    "from statsmodels.graphics.tsaplots import plot_predict\n"
   ]
  },
  {
   "cell_type": "code",
   "execution_count": 163,
   "id": "9484bacf",
   "metadata": {},
   "outputs": [],
   "source": [
    "# Initial settings\n",
    "pio.renderers.default = \"notebook\"\n",
    "warnings.filterwarnings(\"ignore\", category=UserWarning)"
   ]
  },
  {
   "cell_type": "markdown",
   "id": "6d21270a",
   "metadata": {},
   "source": [
    "##### Questions:\n",
    "-Plot the data with proper labeling and make some observations on the graph.\n",
    "\n",
    "-Split this data into a training and test set. Use the last year of data (July 2020 – June 2021) \n",
    "of data as your test set and the rest as your training set.\n",
    "\n",
    "-Use the training set to build a predictive model for the monthly retail sales.\n",
    "\n",
    "-Use the model to predict the monthly retail sales on the last year of data.\n",
    "\n",
    "-Report the RMSE of the model predictions on the test set."
   ]
  },
  {
   "cell_type": "code",
   "execution_count": 164,
   "id": "c19622bf",
   "metadata": {},
   "outputs": [],
   "source": [
    "#Load the dataset as a Pandas data frame.\n",
    "\n",
    "us_retail_sales_df = pd.read_csv('us_retail_sales.csv')       "
   ]
  },
  {
   "cell_type": "code",
   "execution_count": 165,
   "id": "421e6fb8",
   "metadata": {},
   "outputs": [
    {
     "name": "stdout",
     "output_type": "stream",
     "text": [
      "         JAN     FEB     MAR     APR     MAY     JUN       JUL       AUG  \\\n",
      "YEAR                                                                       \n",
      "1992  146925  147223  146805  148032  149010  149800  150761.0  151067.0   \n",
      "1993  157555  156266  154752  158979  160605  160127  162816.0  162506.0   \n",
      "1994  167518  169649  172766  173106  172329  174241  174781.0  177295.0   \n",
      "1995  182413  179488  181013  181686  183536  186081  185431.0  186806.0   \n",
      "1996  189135  192266  194029  194744  196205  196136  196187.0  196218.0   \n",
      "1997  202371  204286  204990  203399  201699  204675  207014.0  207635.0   \n",
      "1998  209666  209552  210832  213633  214639  216337  214841.0  213636.0   \n",
      "1999  223997  226250  227417  229037  231235  231903  233948.0  236566.0   \n",
      "2000  243436  247133  249825  245831  246201  248160  247176.0  247576.0   \n",
      "2001  252654  252704  250328  254763  255218  254022  252997.0  254560.0   \n",
      "2002  256307  257670  257059  261333  257573  259786  262769.0  265043.0   \n",
      "2003  267230  263188  267820  267197  267362  270396  273352.0  277965.0   \n",
      "2004  278913  280932  286209  282952  288252  284133  287358.0  287941.0   \n",
      "2005  296696  300557  301308  303760  301776  310989  313520.0  310046.0   \n",
      "2006  322348  320171  320869  322561  321794  323184  324204.0  325324.0   \n",
      "2007  327181  327953  330579  329560  334202  331076  332342.0  334169.0   \n",
      "2008  337412  334584  335193  334843  337947  338311  336771.0  334045.0   \n",
      "2009  298673  297631  292300  293614  296501  302169  302802.0  309023.0   \n",
      "2010  308299  308628  316003  318707  315604  314925  315632.0  317408.0   \n",
      "2011  332357  334710  338007  339884  339303  341600  341373.0  342288.0   \n",
      "2012  352862  357379  358719  356849  356018  352043  353891.0  358450.0   \n",
      "2013  367009  372291  369081  367514  369493  371041  373554.0  372489.0   \n",
      "2014  373033  378581  382601  386689  387100  388106  388359.0  391305.0   \n",
      "2015  385648  385157  391420  391356  394718  395464  398193.0  398105.0   \n",
      "2016  394749  398105  396911  398190  400143  404756  403730.0  403968.0   \n",
      "2017  416081  415503  414620  416889  414540  416505  416744.0  417179.0   \n",
      "2018  432148  434106  433232  435610  439996  438191  440703.0  439278.0   \n",
      "2019  440751  439996  447167  448709  449552  450927  454012.0  456500.0   \n",
      "2020  460586  459610  434281  379892  444631  476343  481627.0  483716.0   \n",
      "2021  520162  504458  559871  562269  548987  550782       NaN       NaN   \n",
      "\n",
      "           SEP       OCT       NOV       DEC  \n",
      "YEAR                                          \n",
      "1992  152588.0  153521.0  153583.0  155614.0  \n",
      "1993  163258.0  164685.0  166594.0  168161.0  \n",
      "1994  178787.0  180561.0  180703.0  181524.0  \n",
      "1995  187366.0  186565.0  189055.0  190774.0  \n",
      "1996  198859.0  200509.0  200174.0  201284.0  \n",
      "1997  208326.0  208078.0  208936.0  209363.0  \n",
      "1998  215720.0  219483.0  221134.0  223179.0  \n",
      "1999  237481.0  237553.0  240544.0  245485.0  \n",
      "2000  251837.0  251221.0  250331.0  250658.0  \n",
      "2001  249845.0  267999.0  260514.0  256549.0  \n",
      "2002  260626.0  261953.0  263568.0  265930.0  \n",
      "2003  276430.0  274764.0  278298.0  277612.0  \n",
      "2004  293139.0  295115.0  296177.0  299763.0  \n",
      "2005  310673.0  310479.0  313303.0  313473.0  \n",
      "2006  323236.0  322678.0  323343.0  326849.0  \n",
      "2007  335442.0  337530.0  341133.0  336189.0  \n",
      "2008  328343.0  314830.0  301332.0  294025.0  \n",
      "2009  301033.0  304154.0  306675.0  308413.0  \n",
      "2010  320080.0  323900.0  327745.0  329627.0  \n",
      "2011  345496.0  347924.0  349304.0  349744.0  \n",
      "2012  361470.0  361991.0  362876.0  364488.0  \n",
      "2013  372505.0  373663.0  373914.0  377032.0  \n",
      "2014  389860.0  390506.0  391805.0  388569.0  \n",
      "2015  396248.0  394503.0  396240.0  397052.0  \n",
      "2016  405958.0  407395.0  406061.0  412610.0  \n",
      "2017  426501.0  426933.0  431158.0  433282.0  \n",
      "2018  438985.0  444038.0  445242.0  434803.0  \n",
      "2019  452849.0  455486.0  457658.0  458055.0  \n",
      "2020  493327.0  493991.0  488652.0  484782.0  \n",
      "2021       NaN       NaN       NaN       NaN  \n"
     ]
    }
   ],
   "source": [
    "\n",
    "# Set the index column and parse dates\n",
    "us_retail_sales_df = us_retail_sales_df.set_index('YEAR')\n",
    "#us_retail_sales_df.index = pd.to_datetime(us_retail_sales_df.index, format='%Y')\n",
    "\n",
    "print(us_retail_sales_df)"
   ]
  },
  {
   "cell_type": "markdown",
   "id": "a6b694ec",
   "metadata": {},
   "source": [
    "#### Convert the data to time series dataframe"
   ]
  },
  {
   "cell_type": "code",
   "execution_count": 166,
   "id": "18ef6a1c",
   "metadata": {},
   "outputs": [
    {
     "data": {
      "text/html": [
       "<div>\n",
       "<style scoped>\n",
       "    .dataframe tbody tr th:only-of-type {\n",
       "        vertical-align: middle;\n",
       "    }\n",
       "\n",
       "    .dataframe tbody tr th {\n",
       "        vertical-align: top;\n",
       "    }\n",
       "\n",
       "    .dataframe thead th {\n",
       "        text-align: right;\n",
       "    }\n",
       "</style>\n",
       "<table border=\"1\" class=\"dataframe\">\n",
       "  <thead>\n",
       "    <tr style=\"text-align: right;\">\n",
       "      <th></th>\n",
       "      <th>data</th>\n",
       "      <th>year-month</th>\n",
       "    </tr>\n",
       "  </thead>\n",
       "  <tbody>\n",
       "    <tr>\n",
       "      <th>0</th>\n",
       "      <td>146925.0</td>\n",
       "      <td>1992-01-01</td>\n",
       "    </tr>\n",
       "    <tr>\n",
       "      <th>30</th>\n",
       "      <td>147223.0</td>\n",
       "      <td>1992-02-01</td>\n",
       "    </tr>\n",
       "    <tr>\n",
       "      <th>60</th>\n",
       "      <td>146805.0</td>\n",
       "      <td>1992-03-01</td>\n",
       "    </tr>\n",
       "    <tr>\n",
       "      <th>90</th>\n",
       "      <td>148032.0</td>\n",
       "      <td>1992-04-01</td>\n",
       "    </tr>\n",
       "    <tr>\n",
       "      <th>120</th>\n",
       "      <td>149010.0</td>\n",
       "      <td>1992-05-01</td>\n",
       "    </tr>\n",
       "  </tbody>\n",
       "</table>\n",
       "</div>"
      ],
      "text/plain": [
       "         data year-month\n",
       "0    146925.0 1992-01-01\n",
       "30   147223.0 1992-02-01\n",
       "60   146805.0 1992-03-01\n",
       "90   148032.0 1992-04-01\n",
       "120  149010.0 1992-05-01"
      ]
     },
     "execution_count": 166,
     "metadata": {},
     "output_type": "execute_result"
    }
   ],
   "source": [
    "# Melt the DataFrame\n",
    "df_melted = us_retail_sales_df.melt(ignore_index=False, var_name='month', value_name='data')\n",
    "\n",
    "#copy the year in temp column\n",
    "df_melted['temp'] = df_melted.index # df_melted['month'] # df_melted.index.to_period('M').astype(str) \n",
    "#remove indexing\n",
    "df_melted= df_melted.reset_index(drop=True)\n",
    "#Concatinate the year and month dataframe\n",
    "df_melted['year-month'] = pd.to_datetime(df_melted['temp'].astype(str) + '-' +  df_melted['month'])\n",
    "\n",
    "#sort based on year-month\n",
    "df_melted=df_melted.sort_values(by='year-month')\n",
    "\n",
    "#drop unwated temp/column\n",
    "df_melted=df_melted.drop(columns=['temp','month'])\n",
    "\n",
    "#remove last empty readings\n",
    "df_melted = df_melted.dropna()\n",
    "\n",
    "#Check the data\n",
    "df_melted.head(5)\n"
   ]
  },
  {
   "cell_type": "code",
   "execution_count": 167,
   "id": "ae677f60",
   "metadata": {},
   "outputs": [
    {
     "data": {
      "text/plain": [
       "Text(0.5, 1.0, 'Year-Month Vs Prices')"
      ]
     },
     "execution_count": 167,
     "metadata": {},
     "output_type": "execute_result"
    },
    {
     "data": {
      "image/png": "[encoded data removed]",
      "text/plain": [
       "<Figure size 640x480 with 1 Axes>"
      ]
     },
     "metadata": {},
     "output_type": "display_data"
    }
   ],
   "source": [
    "#Plot the data\n",
    "plt.plot(df_melted['year-month'],df_melted['data'])\n",
    "# Labels\n",
    "plt.xlabel('Year-Month')\n",
    "plt.ylabel('$$$') \n",
    "plt.title('Year-Month Vs Prices') "
   ]
  },
  {
   "cell_type": "markdown",
   "id": "2da8ad20",
   "metadata": {},
   "source": [
    "#### Comments\n",
    "The graph shows the relationship between Month-year Vs Retail prices.\n",
    "\n",
    "There increase is prices looks linear however data shows significant dips in 2008 and in 2020/2021. Those dips seem to be related to economic downturn during housing market crash and Covid pandemic.\n"
   ]
  },
  {
   "cell_type": "code",
   "execution_count": 168,
   "id": "aa01beb5",
   "metadata": {},
   "outputs": [
    {
     "data": {
      "text/plain": [
       "(354, 2)"
      ]
     },
     "execution_count": 168,
     "metadata": {},
     "output_type": "execute_result"
    }
   ],
   "source": [
    "#print the shape of the data\n",
    "df_melted.shape"
   ]
  },
  {
   "cell_type": "markdown",
   "id": "9667aecf",
   "metadata": {},
   "source": [
    "#### Split this data into a training and test set. Use the last year of data (July 2020 – June 2021) \n"
   ]
  },
  {
   "cell_type": "code",
   "execution_count": 169,
   "id": "f47ddcbe",
   "metadata": {},
   "outputs": [
    {
     "data": {
      "text/html": [
       "<div>\n",
       "<style scoped>\n",
       "    .dataframe tbody tr th:only-of-type {\n",
       "        vertical-align: middle;\n",
       "    }\n",
       "\n",
       "    .dataframe tbody tr th {\n",
       "        vertical-align: top;\n",
       "    }\n",
       "\n",
       "    .dataframe thead th {\n",
       "        text-align: right;\n",
       "    }\n",
       "</style>\n",
       "<table border=\"1\" class=\"dataframe\">\n",
       "  <thead>\n",
       "    <tr style=\"text-align: right;\">\n",
       "      <th></th>\n",
       "      <th>data</th>\n",
       "      <th>year-month</th>\n",
       "    </tr>\n",
       "  </thead>\n",
       "  <tbody>\n",
       "    <tr>\n",
       "      <th>208</th>\n",
       "      <td>481627.0</td>\n",
       "      <td>2020-07-01</td>\n",
       "    </tr>\n",
       "    <tr>\n",
       "      <th>238</th>\n",
       "      <td>483716.0</td>\n",
       "      <td>2020-08-01</td>\n",
       "    </tr>\n",
       "    <tr>\n",
       "      <th>268</th>\n",
       "      <td>493327.0</td>\n",
       "      <td>2020-09-01</td>\n",
       "    </tr>\n",
       "    <tr>\n",
       "      <th>298</th>\n",
       "      <td>493991.0</td>\n",
       "      <td>2020-10-01</td>\n",
       "    </tr>\n",
       "    <tr>\n",
       "      <th>328</th>\n",
       "      <td>488652.0</td>\n",
       "      <td>2020-11-01</td>\n",
       "    </tr>\n",
       "    <tr>\n",
       "      <th>358</th>\n",
       "      <td>484782.0</td>\n",
       "      <td>2020-12-01</td>\n",
       "    </tr>\n",
       "    <tr>\n",
       "      <th>29</th>\n",
       "      <td>520162.0</td>\n",
       "      <td>2021-01-01</td>\n",
       "    </tr>\n",
       "    <tr>\n",
       "      <th>59</th>\n",
       "      <td>504458.0</td>\n",
       "      <td>2021-02-01</td>\n",
       "    </tr>\n",
       "    <tr>\n",
       "      <th>89</th>\n",
       "      <td>559871.0</td>\n",
       "      <td>2021-03-01</td>\n",
       "    </tr>\n",
       "    <tr>\n",
       "      <th>119</th>\n",
       "      <td>562269.0</td>\n",
       "      <td>2021-04-01</td>\n",
       "    </tr>\n",
       "    <tr>\n",
       "      <th>149</th>\n",
       "      <td>548987.0</td>\n",
       "      <td>2021-05-01</td>\n",
       "    </tr>\n",
       "    <tr>\n",
       "      <th>179</th>\n",
       "      <td>550782.0</td>\n",
       "      <td>2021-06-01</td>\n",
       "    </tr>\n",
       "  </tbody>\n",
       "</table>\n",
       "</div>"
      ],
      "text/plain": [
       "         data year-month\n",
       "208  481627.0 2020-07-01\n",
       "238  483716.0 2020-08-01\n",
       "268  493327.0 2020-09-01\n",
       "298  493991.0 2020-10-01\n",
       "328  488652.0 2020-11-01\n",
       "358  484782.0 2020-12-01\n",
       "29   520162.0 2021-01-01\n",
       "59   504458.0 2021-02-01\n",
       "89   559871.0 2021-03-01\n",
       "119  562269.0 2021-04-01\n",
       "149  548987.0 2021-05-01\n",
       "179  550782.0 2021-06-01"
      ]
     },
     "execution_count": 169,
     "metadata": {},
     "output_type": "execute_result"
    }
   ],
   "source": [
    "# Split the training and testing data\n",
    "length= df_melted.shape[0]\n",
    "#Get all records except the last 12 records for training data\n",
    "training_data_df=df_melted[:length-12]\n",
    "\n",
    "#For test data, get the last 12 rcods\n",
    " \n",
    "test_data_df =df_melted[length-12:]\n",
    "\n",
    "#check the test data from July 2020 – June 2021\n",
    "test_data_df"
   ]
  },
  {
   "cell_type": "code",
   "execution_count": 170,
   "id": "80682d65",
   "metadata": {},
   "outputs": [
    {
     "data": {
      "text/html": [
       "<div>\n",
       "<style scoped>\n",
       "    .dataframe tbody tr th:only-of-type {\n",
       "        vertical-align: middle;\n",
       "    }\n",
       "\n",
       "    .dataframe tbody tr th {\n",
       "        vertical-align: top;\n",
       "    }\n",
       "\n",
       "    .dataframe thead th {\n",
       "        text-align: right;\n",
       "    }\n",
       "</style>\n",
       "<table border=\"1\" class=\"dataframe\">\n",
       "  <thead>\n",
       "    <tr style=\"text-align: right;\">\n",
       "      <th></th>\n",
       "      <th>data</th>\n",
       "      <th>year-month</th>\n",
       "    </tr>\n",
       "  </thead>\n",
       "  <tbody>\n",
       "    <tr>\n",
       "      <th>0</th>\n",
       "      <td>146925.0</td>\n",
       "      <td>1992-01-01</td>\n",
       "    </tr>\n",
       "    <tr>\n",
       "      <th>1</th>\n",
       "      <td>147223.0</td>\n",
       "      <td>1992-02-01</td>\n",
       "    </tr>\n",
       "    <tr>\n",
       "      <th>2</th>\n",
       "      <td>146805.0</td>\n",
       "      <td>1992-03-01</td>\n",
       "    </tr>\n",
       "    <tr>\n",
       "      <th>3</th>\n",
       "      <td>148032.0</td>\n",
       "      <td>1992-04-01</td>\n",
       "    </tr>\n",
       "    <tr>\n",
       "      <th>4</th>\n",
       "      <td>149010.0</td>\n",
       "      <td>1992-05-01</td>\n",
       "    </tr>\n",
       "    <tr>\n",
       "      <th>...</th>\n",
       "      <td>...</td>\n",
       "      <td>...</td>\n",
       "    </tr>\n",
       "    <tr>\n",
       "      <th>337</th>\n",
       "      <td>459610.0</td>\n",
       "      <td>2020-02-01</td>\n",
       "    </tr>\n",
       "    <tr>\n",
       "      <th>338</th>\n",
       "      <td>434281.0</td>\n",
       "      <td>2020-03-01</td>\n",
       "    </tr>\n",
       "    <tr>\n",
       "      <th>339</th>\n",
       "      <td>379892.0</td>\n",
       "      <td>2020-04-01</td>\n",
       "    </tr>\n",
       "    <tr>\n",
       "      <th>340</th>\n",
       "      <td>444631.0</td>\n",
       "      <td>2020-05-01</td>\n",
       "    </tr>\n",
       "    <tr>\n",
       "      <th>341</th>\n",
       "      <td>476343.0</td>\n",
       "      <td>2020-06-01</td>\n",
       "    </tr>\n",
       "  </tbody>\n",
       "</table>\n",
       "<p>342 rows × 2 columns</p>\n",
       "</div>"
      ],
      "text/plain": [
       "         data year-month\n",
       "0    146925.0 1992-01-01\n",
       "1    147223.0 1992-02-01\n",
       "2    146805.0 1992-03-01\n",
       "3    148032.0 1992-04-01\n",
       "4    149010.0 1992-05-01\n",
       "..        ...        ...\n",
       "337  459610.0 2020-02-01\n",
       "338  434281.0 2020-03-01\n",
       "339  379892.0 2020-04-01\n",
       "340  444631.0 2020-05-01\n",
       "341  476343.0 2020-06-01\n",
       "\n",
       "[342 rows x 2 columns]"
      ]
     },
     "execution_count": 170,
     "metadata": {},
     "output_type": "execute_result"
    }
   ],
   "source": [
    "#reset index. Remove indexing to simply graphs \n",
    "training_data_df=training_data_df.reset_index(drop=True)\n",
    "training_data_df"
   ]
  },
  {
   "cell_type": "markdown",
   "id": "93270ecf",
   "metadata": {},
   "source": [
    "#### Use the training set to build a predictive model for the monthly retail sales."
   ]
  },
  {
   "cell_type": "code",
   "execution_count": 171,
   "id": "e3ae5613",
   "metadata": {},
   "outputs": [],
   "source": [
    "model = ARIMA(training_data_df['data'], order=(25,3,2))  # \n",
    "model_fit = model.fit()  \n",
    "\n",
    "#p= 25 values form the past samples\n",
    "#d=3 The model will perform differencing once to remove any trend in the data before making predictions.\n",
    "#q=2 The model will use a moving average of one past forecast error to adjust its current prediction."
   ]
  },
  {
   "cell_type": "markdown",
   "id": "170b1c83",
   "metadata": {},
   "source": [
    "#### Use the model to predict the monthly retail sales on the last year of data."
   ]
  },
  {
   "cell_type": "code",
   "execution_count": 172,
   "id": "22d46134",
   "metadata": {},
   "outputs": [
    {
     "name": "stdout",
     "output_type": "stream",
     "text": [
      "342    494390.324842\n",
      "343    498867.052808\n",
      "344    499269.687155\n",
      "345    495309.450565\n",
      "346    493222.256002\n",
      "347    492469.333657\n",
      "348    490889.369419\n",
      "349    491947.288901\n",
      "350    493657.088468\n",
      "351    498557.218956\n",
      "352    502469.223689\n",
      "353    504055.217288\n",
      "Name: predicted_mean, dtype: float64\n"
     ]
    }
   ],
   "source": [
    "forecast = model_fit.forecast(steps=12)  # Predict the next 12 months \n",
    "print(forecast)"
   ]
  },
  {
   "cell_type": "markdown",
   "id": "a3e4e3e0",
   "metadata": {},
   "source": [
    "#### Report the RMSE of the model predictions on the test set."
   ]
  },
  {
   "cell_type": "code",
   "execution_count": 173,
   "id": "5949e3c4",
   "metadata": {},
   "outputs": [
    {
     "name": "stdout",
     "output_type": "stream",
     "text": [
      "RMSE: 34537.01721395114\n"
     ]
    }
   ],
   "source": [
    "# 2. Calculate RMSE\n",
    "rmse = np.sqrt(mean_squared_error(test_data_df['data'], forecast))\n",
    "print(\"RMSE:\", rmse)"
   ]
  },
  {
   "cell_type": "code",
   "execution_count": 174,
   "id": "c014e8f6",
   "metadata": {},
   "outputs": [
    {
     "data": {
      "text/plain": [
       "208    481627.0\n",
       "238    483716.0\n",
       "268    493327.0\n",
       "298    493991.0\n",
       "328    488652.0\n",
       "358    484782.0\n",
       "29     520162.0\n",
       "59     504458.0\n",
       "89     559871.0\n",
       "119    562269.0\n",
       "149    548987.0\n",
       "179    550782.0\n",
       "Name: data, dtype: float64"
      ]
     },
     "execution_count": 174,
     "metadata": {},
     "output_type": "execute_result"
    }
   ],
   "source": [
    "test_data_df['data']"
   ]
  },
  {
   "cell_type": "code",
   "execution_count": 175,
   "id": "cdab9268",
   "metadata": {},
   "outputs": [
    {
     "data": {
      "image/png": "[encoded data removed]",
      "text/plain": [
       "<Figure size 1000x600 with 1 Axes>"
      ]
     },
     "metadata": {},
     "output_type": "display_data"
    }
   ],
   "source": [
    "#plot the graph\n",
    "plt.figure(figsize=(10, 6))\n",
    "plt.plot(test_data_df['year-month'],forecast, color='red', label='Predicted Values')\n",
    "\n",
    "# Optional: Add the original data for comparison\n",
    "plt.plot(df_melted['year-month'],df_melted['data'], label='Original Data')\n",
    "\n",
    "plt.xlabel('Time')\n",
    "plt.ylabel('Values')\n",
    "plt.title('Predicted Values')\n",
    "plt.legend()\n",
    "plt.show()"
   ]
  },
  {
   "cell_type": "markdown",
   "id": "c15a0662",
   "metadata": {},
   "source": [
    "#### Second attempt with different tuning parameters"
   ]
  },
  {
   "cell_type": "code",
   "execution_count": 176,
   "id": "a3d06841",
   "metadata": {},
   "outputs": [],
   "source": [
    "model = ARIMA(training_data_df['data'], order=(25,5,5))  # \n",
    "model_fit = model.fit()  \n",
    "forecast = model_fit.forecast(steps=12)  # Predict the next 12 months \n",
    "print(forecast)\n",
    "#p= 25 values form the past samples\n",
    "#d=3 The model will perform differencing once to remove any trend in the data before making predictions.\n",
    "#q=2 The model will use a moving average of one past forecast error to adjust its current prediction."
   ]
  },
  {
   "cell_type": "code",
   "execution_count": null,
   "id": "1b01e796",
   "metadata": {},
   "outputs": [
    {
     "data": {
      "image/png": "[encoded data removed]",
      "text/plain": [
       "<Figure size 1000x600 with 1 Axes>"
      ]
     },
     "metadata": {},
     "output_type": "display_data"
    }
   ],
   "source": [
    "#plot the graph\n",
    "plt.figure(figsize=(10, 6))\n",
    "plt.plot(test_data_df['year-month'],forecast, color='red', label='Predicted Values')\n",
    "\n",
    "# Optional: Add the original data for comparison\n",
    "plt.plot(df_melted['year-month'],df_melted['data'], label='Original Data')\n",
    "\n",
    "plt.xlabel('Time')\n",
    "plt.ylabel('Values')\n",
    "plt.title('Predicted Values')\n",
    "plt.legend()\n",
    "plt.show()"
   ]
  },
  {
   "cell_type": "code",
   "execution_count": null,
   "id": "60a128a7",
   "metadata": {},
   "outputs": [
    {
     "name": "stdout",
     "output_type": "stream",
     "text": [
      "RMSE: 24149.05256437495\n"
     ]
    }
   ],
   "source": [
    "# 2. Calculate RMSE\n",
    "rmse = np.sqrt(mean_squared_error(test_data_df['data'], forecast))\n",
    "print(\"RMSE:\", rmse)"
   ]
  },
  {
   "cell_type": "markdown",
   "id": "d83cd1a3",
   "metadata": {},
   "source": [
    "##### Conslusion:\n",
    "\n",
    "By using time series libraries like ARIMA, we can predict the value for the extended periods based on past performance.\n",
    "\n",
    "However, the model needs to be tuned appropriately. In this experiment, we used ARIMA model to predict the future timeseries values.\n",
    "\n",
    "\n"
   ]
  }
 ],
 "metadata": {
  "kernelspec": {
   "display_name": "Python 3 (ipykernel)",
   "language": "python",
   "name": "python3"
  },
  "language_info": {
   "codemirror_mode": {
    "name": "ipython",
    "version": 3
   },
   "file_extension": ".py",
   "mimetype": "text/x-python",
   "name": "python",
   "nbconvert_exporter": "python",
   "pygments_lexer": "ipython3",
   "version": "3.12.0"
  },
  "varInspector": {
   "cols": {
    "lenName": 16,
    "lenType": 16,
    "lenVar": 40
   },
   "kernels_config": {
    "python": {
     "delete_cmd_postfix": "",
     "delete_cmd_prefix": "del ",
     "library": "var_list.py",
     "varRefreshCmd": "print(var_dic_list())"
    },
    "r": {
     "delete_cmd_postfix": ") ",
     "delete_cmd_prefix": "rm(",
     "library": "var_list.r",
     "varRefreshCmd": "cat(var_dic_list()) "
    }
   },
   "types_to_exclude": [
    "module",
    "function",
    "builtin_function_or_method",
    "instance",
    "_Feature"
   ],
   "window_display": false
  }
 },
 "nbformat": 4,
 "nbformat_minor": 5
}
